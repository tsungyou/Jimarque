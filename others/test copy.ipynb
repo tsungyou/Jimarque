{
 "cells": [
  {
   "cell_type": "code",
   "execution_count": null,
   "id": "eba4f8d6",
   "metadata": {},
   "outputs": [
    {
     "data": {
      "text/html": [
       "<div>\n",
       "<style scoped>\n",
       "    .dataframe tbody tr th:only-of-type {\n",
       "        vertical-align: middle;\n",
       "    }\n",
       "\n",
       "    .dataframe tbody tr th {\n",
       "        vertical-align: top;\n",
       "    }\n",
       "\n",
       "    .dataframe thead th {\n",
       "        text-align: right;\n",
       "    }\n",
       "</style>\n",
       "<table border=\"1\" class=\"dataframe\">\n",
       "  <thead>\n",
       "    <tr style=\"text-align: right;\">\n",
       "      <th></th>\n",
       "      <th>time</th>\n",
       "      <th>op</th>\n",
       "      <th>hi</th>\n",
       "      <th>lo</th>\n",
       "      <th>cl</th>\n",
       "      <th>tick_volume</th>\n",
       "      <th>spread</th>\n",
       "      <th>da</th>\n",
       "      <th>hms</th>\n",
       "      <th>code</th>\n",
       "    </tr>\n",
       "  </thead>\n",
       "  <tbody>\n",
       "    <tr>\n",
       "      <th>0</th>\n",
       "      <td>2022-10-20 00:00:00+00:00</td>\n",
       "      <td>30367.7</td>\n",
       "      <td>30827.7</td>\n",
       "      <td>30258.7</td>\n",
       "      <td>30375.6</td>\n",
       "      <td>156633</td>\n",
       "      <td>0</td>\n",
       "      <td>2022-10-20</td>\n",
       "      <td>00:00:00</td>\n",
       "      <td>US30</td>\n",
       "    </tr>\n",
       "    <tr>\n",
       "      <th>1</th>\n",
       "      <td>2022-10-21 00:00:00+00:00</td>\n",
       "      <td>30366.1</td>\n",
       "      <td>31158.6</td>\n",
       "      <td>30068.0</td>\n",
       "      <td>31156.6</td>\n",
       "      <td>226785</td>\n",
       "      <td>0</td>\n",
       "      <td>2022-10-21</td>\n",
       "      <td>00:00:00</td>\n",
       "      <td>US30</td>\n",
       "    </tr>\n",
       "    <tr>\n",
       "      <th>2</th>\n",
       "      <td>2022-10-24 00:00:00+00:00</td>\n",
       "      <td>31213.8</td>\n",
       "      <td>31600.2</td>\n",
       "      <td>30882.5</td>\n",
       "      <td>31475.6</td>\n",
       "      <td>254011</td>\n",
       "      <td>0</td>\n",
       "      <td>2022-10-24</td>\n",
       "      <td>00:00:00</td>\n",
       "      <td>US30</td>\n",
       "    </tr>\n",
       "    <tr>\n",
       "      <th>3</th>\n",
       "      <td>2022-10-25 00:00:00+00:00</td>\n",
       "      <td>31474.3</td>\n",
       "      <td>31878.7</td>\n",
       "      <td>31308.6</td>\n",
       "      <td>31836.1</td>\n",
       "      <td>203156</td>\n",
       "      <td>0</td>\n",
       "      <td>2022-10-25</td>\n",
       "      <td>00:00:00</td>\n",
       "      <td>US30</td>\n",
       "    </tr>\n",
       "    <tr>\n",
       "      <th>4</th>\n",
       "      <td>2022-10-26 00:00:00+00:00</td>\n",
       "      <td>31762.2</td>\n",
       "      <td>32174.8</td>\n",
       "      <td>31708.9</td>\n",
       "      <td>31955.1</td>\n",
       "      <td>208260</td>\n",
       "      <td>0</td>\n",
       "      <td>2022-10-26</td>\n",
       "      <td>00:00:00</td>\n",
       "      <td>US30</td>\n",
       "    </tr>\n",
       "  </tbody>\n",
       "</table>\n",
       "</div>"
      ],
      "text/plain": [
       "                       time       op       hi       lo       cl  tick_volume  \\\n",
       "0 2022-10-20 00:00:00+00:00  30367.7  30827.7  30258.7  30375.6       156633   \n",
       "1 2022-10-21 00:00:00+00:00  30366.1  31158.6  30068.0  31156.6       226785   \n",
       "2 2022-10-24 00:00:00+00:00  31213.8  31600.2  30882.5  31475.6       254011   \n",
       "3 2022-10-25 00:00:00+00:00  31474.3  31878.7  31308.6  31836.1       203156   \n",
       "4 2022-10-26 00:00:00+00:00  31762.2  32174.8  31708.9  31955.1       208260   \n",
       "\n",
       "   spread          da       hms  code  \n",
       "0       0  2022-10-20  00:00:00  US30  \n",
       "1       0  2022-10-21  00:00:00  US30  \n",
       "2       0  2022-10-24  00:00:00  US30  \n",
       "3       0  2022-10-25  00:00:00  US30  \n",
       "4       0  2022-10-26  00:00:00  US30  "
      ]
     },
     "execution_count": 2,
     "metadata": {},
     "output_type": "execute_result"
    }
   ],
   "source": [
    "import pandas as pd\n",
    "import numpy as np\n",
    "import MetaTrader5 as mt5\n",
    "from datetime import datetime, timedelta\n",
    "current_mand_symbols = [\"US30\", \"NAS100\", \"USDJPY\", \"XAUUSD\", \"GER30\", \"JPN225\"]\n",
    "current_mand_timeframes = {\n",
    "    mt5.TIMEFRAME_M1: 69,\n",
    "    mt5.TIMEFRAME_M5: 300,\n",
    "    mt5.TIMEFRAME_M15: 1000,\n",
    "    mt5.TIMEFRAME_D1: 1200\n",
    "}\n",
    "\n",
    "\n",
    "if not mt5.initialize():\n",
    "    print(\"initialize() failed\")\n",
    "    mt5.shutdown()\n",
    "\n",
    "eurcad_rates = mt5.copy_rates_range(\n",
    "    \"US30\",\n",
    "    mt5.TIMEFRAME_D1, \n",
    "    datetime.now() - timedelta(1200), \n",
    "    datetime.now())\n",
    "\n",
    "df = pd.DataFrame(eurcad_rates)\n",
    "df = df.iloc[:, :7]\n",
    "import pytz\n",
    "\n",
    "# 先轉成 UTC\n",
    "df['time'] = pd.to_datetime(df['time'], unit='s', utc=True)\n",
    "df['da'] = df['time'].dt.strftime(\"%Y-%m-%d\")\n",
    "df['hms'] = df['time'].dt.strftime(\"%H:%M:%S\")\n",
    "df.sort_values(by=['da', 'hms'], inplace=True)\n",
    "df = df.drop_duplicates(subset=['da', 'hms'])\n",
    "df = df.iloc[:, :]\n",
    "df.columns = [\"time\", \"op\", \"hi\", \"lo\", \"cl\", \"tick_volume\", \"spread\",\"da\", \"hms\"]\n",
    "df['code'] = \"US30\"\n",
    "df.head()"
   ]
  },
  {
   "cell_type": "code",
   "execution_count": null,
   "id": "8360ae5e",
   "metadata": {},
   "outputs": [],
   "source": [
    "strategy_list = [\n",
    "    \"XAUUSD_rangeBreakout_6amto9am_21pm_revPos_true\",\n",
    "    \"USDJPY_rangeReverse_9amto12am_21pm_revPos_true\",\n",
    "    \"GER30_rangeBreakout_15pmto1530pm_21pm_revPos_true\",\n",
    "    \"GER30_candleReverse_15pmto1515pm_1517pm_oneOrder\",\n",
    "    \"JPN225_rangeBreakout_8amto815am_12am_revPos_true\",\n",
    "    \"NAS100_trendFollowing\",\n",
    "    \"US30_candleReverse_2130pmto2135pm_2140pm_oneOrder\",\n",
    "]"
   ]
  },
  {
   "cell_type": "code",
   "execution_count": 1,
   "id": "69d5d3da",
   "metadata": {},
   "outputs": [
    {
     "ename": "ModuleNotFoundError",
     "evalue": "No module named 'MetaTrader5'",
     "output_type": "error",
     "traceback": [
      "\u001b[1;31m---------------------------------------------------------------------------\u001b[0m",
      "\u001b[1;31mModuleNotFoundError\u001b[0m                       Traceback (most recent call last)",
      "Cell \u001b[1;32mIn[1], line 3\u001b[0m\n\u001b[0;32m      1\u001b[0m \u001b[38;5;28;01mfrom\u001b[39;00m \u001b[38;5;21;01mtqdm\u001b[39;00m \u001b[38;5;28;01mimport\u001b[39;00m tqdm\n\u001b[0;32m      2\u001b[0m \u001b[38;5;28;01mimport\u001b[39;00m \u001b[38;5;21;01mpandas\u001b[39;00m \u001b[38;5;28;01mas\u001b[39;00m \u001b[38;5;21;01mpd\u001b[39;00m\n\u001b[1;32m----> 3\u001b[0m \u001b[38;5;28;01mimport\u001b[39;00m \u001b[38;5;21;01mMetaTrader5\u001b[39;00m \u001b[38;5;28;01mas\u001b[39;00m \u001b[38;5;21;01mmt5\u001b[39;00m\n\u001b[0;32m      4\u001b[0m \u001b[38;5;28;01mfrom\u001b[39;00m \u001b[38;5;21;01mdatetime\u001b[39;00m \u001b[38;5;28;01mimport\u001b[39;00m datetime, timedelta\n\u001b[0;32m      5\u001b[0m \u001b[38;5;28;01mimport\u001b[39;00m \u001b[38;5;21;01mpytz\u001b[39;00m\n",
      "\u001b[1;31mModuleNotFoundError\u001b[0m: No module named 'MetaTrader5'"
     ]
    }
   ],
   "source": [
    "from tqdm import tqdm\n",
    "import pandas as pd\n",
    "import MetaTrader5 as mt5\n",
    "from datetime import datetime, timedelta\n",
    "import pytz\n",
    "import psycopg2\n",
    "\n",
    "class MT5Inserter:\n",
    "    def __init__(self, db_params):\n",
    "        self.db_params = db_params\n",
    "        if not mt5.initialize():\n",
    "            raise Exception(\"MT5 initialize() failed\")\n",
    "\n",
    "    def fetch_data(self, symbol: str, timeframe, days: int) -> pd.DataFrame:\n",
    "        rates = mt5.copy_rates_range(\n",
    "            symbol,\n",
    "            timeframe,\n",
    "            datetime.now() - timedelta(days=days),\n",
    "            datetime.now()\n",
    "        )\n",
    "\n",
    "        if rates is None or len(rates) == 0:\n",
    "            print(f\"⚠️ No data returned for {symbol}\")\n",
    "            return pd.DataFrame()\n",
    "\n",
    "        df = pd.DataFrame(rates)\n",
    "        df = df.iloc[:, :7]  # drop real_volume if exists\n",
    "        df['time'] = pd.to_datetime(df['time'], unit='s', utc=True)\n",
    "        df['da'] = df['time'].dt.date\n",
    "        df['hms'] = df['time'].dt.strftime('%H:%M:%S')\n",
    "        df.columns = [\"time\", \"op\", \"hi\", \"lo\", \"cl\", \"tick_volume\", \"spread\", \"da\", \"hms\"]\n",
    "        df['symbol'] = symbol\n",
    "        df = df.drop_duplicates(subset=['symbol', 'time'])\n",
    "        return df\n",
    "\n",
    "    def insert_to_postgres(self, df: pd.DataFrame, table: str):\n",
    "        if df.empty:\n",
    "            print(\"❌ Empty DataFrame, nothing to insert.\")\n",
    "            return\n",
    "\n",
    "        conn = psycopg2.connect(**self.db_params)\n",
    "        cur = conn.cursor()\n",
    "\n",
    "        insert_sql = f\"\"\"\n",
    "        INSERT INTO {table} (\n",
    "            symbol, time, op, hi, lo, cl, tick_volume, spread, da, hms\n",
    "        ) VALUES (\n",
    "            %s, %s, %s, %s, %s, %s, %s, %s, %s, %s\n",
    "        )\n",
    "        ON CONFLICT (symbol, time) DO NOTHING;\n",
    "        \"\"\"\n",
    "\n",
    "        data = df[[\n",
    "            'symbol', 'time', 'op', 'hi', 'lo', 'cl',\n",
    "            'tick_volume', 'spread', 'da', 'hms'\n",
    "        ]].values.tolist()\n",
    "\n",
    "        try:\n",
    "            cur.executemany(insert_sql, data)\n",
    "            conn.commit()\n",
    "        except Exception as e:\n",
    "            conn.rollback()\n",
    "            print(\"❌ Error during insert:\", e)\n",
    "        finally:\n",
    "            cur.close()\n",
    "            conn.close()\n",
    "\n",
    "    def get_symbols(self):\n",
    "        symbols = mt5.symbols_get()\n",
    "        return [s.name for s in symbols]\n",
    "\n",
    "    def shutdown(self):\n",
    "        mt5.shutdown()\n"
   ]
  },
  {
   "cell_type": "code",
   "execution_count": 17,
   "id": "cbcb483e",
   "metadata": {},
   "outputs": [],
   "source": [
    "db_params = {\n",
    "    \"dbname\": \"postgres\",\n",
    "    \"user\": \"postgres\",\n",
    "    \"password\": \"P910317p\",\n",
    "    \"host\": \"localhost\",\n",
    "    \"port\": 5432\n",
    "}\n",
    "\n",
    "inserter = MT5Inserter(db_params)"
   ]
  },
  {
   "cell_type": "code",
   "execution_count": null,
   "id": "63d9bf7e",
   "metadata": {},
   "outputs": [],
   "source": [
    "current_mand_timeframes = {\n",
    "    mt5.TIMEFRAME_M1: 69,\n",
    "    mt5.TIMEFRAME_M5: 300,\n",
    "    mt5.TIMEFRAME_M15: 1000,\n",
    "    mt5.TIMEFRAME_D1: 1200\n",
    "}\n",
    "\n",
    "tf_tables = {\n",
    "    mt5.TIMEFRAME_M1: \"price_mt5_m1\",\n",
    "    mt5.TIMEFRAME_M5: \"price_mt5_m5\",\n",
    "    mt5.TIMEFRAME_M15: \"price_mt5_m15\",\n",
    "    mt5.TIMEFRAME_D1: \"price_mt5_d1\"\n",
    "}\n",
    "\n",
    "update_mand_timeframes = {\n",
    "    mt5.TIMEFRAME_M1: 5,\n",
    "    mt5.TIMEFRAME_M5: 5,\n",
    "    mt5.TIMEFRAME_M15: 5,\n",
    "    mt5.TIMEFRAME_D1: 5\n",
    "}"
   ]
  },
  {
   "cell_type": "code",
   "execution_count": null,
   "id": "b184c161",
   "metadata": {},
   "outputs": [
    {
     "name": "stderr",
     "output_type": "stream",
     "text": [
      "  0%|          | 0/76 [00:00<?, ?it/s]"
     ]
    },
    {
     "name": "stdout",
     "output_type": "stream",
     "text": [
      "✅ Inserted 70353 rows into price_mt5_m1\n",
      "✅ Inserted 61001 rows into price_mt5_m5\n"
     ]
    },
    {
     "name": "stderr",
     "output_type": "stream",
     "text": [
      "  1%|▏         | 1/76 [00:15<18:57, 15.17s/it]"
     ]
    },
    {
     "name": "stdout",
     "output_type": "stream",
     "text": [
      "✅ Inserted 68106 rows into price_mt5_m15\n",
      "✅ Inserted 854 rows into price_mt5_d1\n",
      "✅ Inserted 70269 rows into price_mt5_m1\n",
      "✅ Inserted 61008 rows into price_mt5_m5\n"
     ]
    },
    {
     "name": "stderr",
     "output_type": "stream",
     "text": [
      "  3%|▎         | 2/76 [00:34<21:49, 17.70s/it]"
     ]
    },
    {
     "name": "stdout",
     "output_type": "stream",
     "text": [
      "✅ Inserted 68113 rows into price_mt5_m15\n",
      "✅ Inserted 855 rows into price_mt5_d1\n",
      "✅ Inserted 70308 rows into price_mt5_m1\n",
      "✅ Inserted 61005 rows into price_mt5_m5\n"
     ]
    },
    {
     "name": "stderr",
     "output_type": "stream",
     "text": [
      "  4%|▍         | 3/76 [00:55<23:01, 18.93s/it]"
     ]
    },
    {
     "name": "stdout",
     "output_type": "stream",
     "text": [
      "✅ Inserted 68115 rows into price_mt5_m15\n",
      "✅ Inserted 855 rows into price_mt5_d1\n",
      "✅ Inserted 70290 rows into price_mt5_m1\n",
      "✅ Inserted 60990 rows into price_mt5_m5\n"
     ]
    },
    {
     "name": "stderr",
     "output_type": "stream",
     "text": [
      "  5%|▌         | 4/76 [01:15<23:26, 19.53s/it]"
     ]
    },
    {
     "name": "stdout",
     "output_type": "stream",
     "text": [
      "✅ Inserted 68144 rows into price_mt5_m15\n",
      "✅ Inserted 855 rows into price_mt5_d1\n",
      "✅ Inserted 70233 rows into price_mt5_m1\n",
      "✅ Inserted 61003 rows into price_mt5_m5\n"
     ]
    },
    {
     "name": "stderr",
     "output_type": "stream",
     "text": [
      "  7%|▋         | 5/76 [01:36<23:44, 20.06s/it]"
     ]
    },
    {
     "name": "stdout",
     "output_type": "stream",
     "text": [
      "✅ Inserted 68036 rows into price_mt5_m15\n",
      "✅ Inserted 854 rows into price_mt5_d1\n",
      "✅ Inserted 69935 rows into price_mt5_m1\n",
      "✅ Inserted 60999 rows into price_mt5_m5\n",
      "✅ Inserted 68121 rows into price_mt5_m15\n"
     ]
    },
    {
     "name": "stderr",
     "output_type": "stream",
     "text": [
      "  8%|▊         | 6/76 [01:57<23:43, 20.34s/it]"
     ]
    },
    {
     "name": "stdout",
     "output_type": "stream",
     "text": [
      "✅ Inserted 855 rows into price_mt5_d1\n",
      "✅ Inserted 70312 rows into price_mt5_m1\n",
      "✅ Inserted 61008 rows into price_mt5_m5\n"
     ]
    },
    {
     "name": "stderr",
     "output_type": "stream",
     "text": [
      "  9%|▉         | 7/76 [02:16<22:57, 19.96s/it]"
     ]
    },
    {
     "name": "stdout",
     "output_type": "stream",
     "text": [
      "✅ Inserted 68120 rows into price_mt5_m15\n",
      "✅ Inserted 855 rows into price_mt5_d1\n",
      "✅ Inserted 70341 rows into price_mt5_m1\n",
      "✅ Inserted 60990 rows into price_mt5_m5\n"
     ]
    },
    {
     "name": "stderr",
     "output_type": "stream",
     "text": [
      " 11%|█         | 8/76 [02:35<22:25, 19.78s/it]"
     ]
    },
    {
     "name": "stdout",
     "output_type": "stream",
     "text": [
      "✅ Inserted 68114 rows into price_mt5_m15\n",
      "✅ Inserted 856 rows into price_mt5_d1\n",
      "✅ Inserted 70411 rows into price_mt5_m1\n",
      "✅ Inserted 61004 rows into price_mt5_m5\n"
     ]
    },
    {
     "name": "stderr",
     "output_type": "stream",
     "text": [
      " 12%|█▏        | 9/76 [02:55<21:54, 19.61s/it]"
     ]
    },
    {
     "name": "stdout",
     "output_type": "stream",
     "text": [
      "✅ Inserted 68100 rows into price_mt5_m15\n",
      "✅ Inserted 855 rows into price_mt5_d1\n",
      "✅ Inserted 70492 rows into price_mt5_m1\n",
      "✅ Inserted 61003 rows into price_mt5_m5\n"
     ]
    },
    {
     "name": "stderr",
     "output_type": "stream",
     "text": [
      " 13%|█▎        | 10/76 [03:14<21:34, 19.61s/it]"
     ]
    },
    {
     "name": "stdout",
     "output_type": "stream",
     "text": [
      "✅ Inserted 68120 rows into price_mt5_m15\n",
      "✅ Inserted 855 rows into price_mt5_d1\n",
      "✅ Inserted 70472 rows into price_mt5_m1\n",
      "✅ Inserted 61002 rows into price_mt5_m5\n"
     ]
    },
    {
     "name": "stderr",
     "output_type": "stream",
     "text": [
      " 14%|█▍        | 11/76 [03:34<21:14, 19.60s/it]"
     ]
    },
    {
     "name": "stdout",
     "output_type": "stream",
     "text": [
      "✅ Inserted 68118 rows into price_mt5_m15\n",
      "✅ Inserted 855 rows into price_mt5_d1\n",
      "✅ Inserted 70328 rows into price_mt5_m1\n",
      "✅ Inserted 61012 rows into price_mt5_m5\n"
     ]
    },
    {
     "name": "stderr",
     "output_type": "stream",
     "text": [
      " 16%|█▌        | 12/76 [03:55<21:24, 20.07s/it]"
     ]
    },
    {
     "name": "stdout",
     "output_type": "stream",
     "text": [
      "✅ Inserted 68113 rows into price_mt5_m15\n",
      "✅ Inserted 855 rows into price_mt5_d1\n",
      "✅ Inserted 70210 rows into price_mt5_m1\n",
      "✅ Inserted 61009 rows into price_mt5_m5\n"
     ]
    },
    {
     "name": "stderr",
     "output_type": "stream",
     "text": [
      " 17%|█▋        | 13/76 [04:16<21:12, 20.20s/it]"
     ]
    },
    {
     "name": "stdout",
     "output_type": "stream",
     "text": [
      "✅ Inserted 68150 rows into price_mt5_m15\n",
      "✅ Inserted 855 rows into price_mt5_d1\n",
      "✅ Inserted 70404 rows into price_mt5_m1\n",
      "✅ Inserted 61015 rows into price_mt5_m5\n"
     ]
    },
    {
     "name": "stderr",
     "output_type": "stream",
     "text": [
      " 18%|█▊        | 14/76 [04:36<21:01, 20.34s/it]"
     ]
    },
    {
     "name": "stdout",
     "output_type": "stream",
     "text": [
      "✅ Inserted 68126 rows into price_mt5_m15\n",
      "✅ Inserted 855 rows into price_mt5_d1\n",
      "✅ Inserted 29187 rows into price_mt5_m1\n",
      "✅ Inserted 52037 rows into price_mt5_m5\n"
     ]
    },
    {
     "name": "stderr",
     "output_type": "stream",
     "text": [
      " 20%|█▉        | 15/76 [04:52<19:22, 19.06s/it]"
     ]
    },
    {
     "name": "stdout",
     "output_type": "stream",
     "text": [
      "✅ Inserted 65167 rows into price_mt5_m15\n",
      "✅ Inserted 827 rows into price_mt5_d1\n",
      "✅ Inserted 70475 rows into price_mt5_m1\n",
      "✅ Inserted 61020 rows into price_mt5_m5\n"
     ]
    },
    {
     "name": "stderr",
     "output_type": "stream",
     "text": [
      " 21%|██        | 16/76 [05:13<19:40, 19.67s/it]"
     ]
    },
    {
     "name": "stdout",
     "output_type": "stream",
     "text": [
      "✅ Inserted 68114 rows into price_mt5_m15\n",
      "✅ Inserted 855 rows into price_mt5_d1\n",
      "✅ Inserted 69010 rows into price_mt5_m1\n",
      "✅ Inserted 60249 rows into price_mt5_m5\n"
     ]
    },
    {
     "name": "stderr",
     "output_type": "stream",
     "text": [
      " 22%|██▏       | 17/76 [05:34<19:40, 20.00s/it]"
     ]
    },
    {
     "name": "stdout",
     "output_type": "stream",
     "text": [
      "✅ Inserted 67937 rows into price_mt5_m15\n",
      "✅ Inserted 854 rows into price_mt5_d1\n",
      "✅ Inserted 70472 rows into price_mt5_m1\n",
      "✅ Inserted 60997 rows into price_mt5_m5\n"
     ]
    }
   ],
   "source": [
    "s = inserter.get_symbols()\n",
    "init = True\n",
    "if init:\n",
    "    used_dict = current_mand_timeframes\n",
    "else:\n",
    "    used_dict = update_mand_timeframes\n",
    "for symbol in tqdm(s):\n",
    "    for tf, count in used_dict.items():\n",
    "        df = inserter.fetch_data(symbol, tf, count)\n",
    "        inserter.insert_to_postgres(df, tf_tables[tf])"
   ]
  }
 ],
 "metadata": {
  "kernelspec": {
   "display_name": ".venv",
   "language": "python",
   "name": "python3"
  },
  "language_info": {
   "codemirror_mode": {
    "name": "ipython",
    "version": 3
   },
   "file_extension": ".py",
   "mimetype": "text/x-python",
   "name": "python",
   "nbconvert_exporter": "python",
   "pygments_lexer": "ipython3",
   "version": "3.12.2"
  }
 },
 "nbformat": 4,
 "nbformat_minor": 5
}

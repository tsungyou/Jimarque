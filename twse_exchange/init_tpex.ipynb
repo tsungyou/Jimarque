{
 "cells": [
  {
   "cell_type": "code",
   "execution_count": null,
   "id": "b7d7ec1d",
   "metadata": {},
   "outputs": [],
   "source": [
    "# https://www.tpex.org.tw/zh-tw/"
   ]
  },
  {
   "cell_type": "code",
   "execution_count": 1,
   "id": "3adc43d2",
   "metadata": {},
   "outputs": [],
   "source": [
    "import requests # type: ignore\n",
    "import pandas as pd # type: ignore\n",
    "import psycopg2 # type: ignore\n",
    "from psycopg2 import sql # type: ignore\n",
    "from tqdm import tqdm # type: ignore\n",
    "from datetime import datetime, timedelta\n",
    "import random\n",
    "import time\n",
    "from util import get_init_period_trade_cal, db_params, \\\n",
    "    create_table, get_all_codes, sleeper, \\\n",
    "    get_ts, init_trade_cal, get_trade_cal_from_postgres, get_latest_da"
   ]
  },
  {
   "cell_type": "code",
   "execution_count": 5,
   "id": "196e5351",
   "metadata": {},
   "outputs": [
    {
     "name": "stdout",
     "output_type": "stream",
     "text": [
      "PY: /Applications/Xcode.app/Contents/Developer/usr/bin/python3\n",
      "VER: 3.9.6 (default, Mar 12 2025, 20:22:46) \n",
      "[Clang 17.0.0 (clang-1700.0.13.3)]\n",
      "SSL: LibreSSL 2.8.3\n",
      "requests: 2.32.3 urllib3: 1.26.20\n",
      "CA file: /Users/tp_mini/Library/Python/3.9/lib/python/site-packages/certifi/cacert.pem\n"
     ]
    }
   ],
   "source": [
    "import sys, ssl, requests, urllib3\n",
    "try:\n",
    "    import certifi\n",
    "    cafile = certifi.where()\n",
    "except Exception:\n",
    "    cafile = None\n",
    "\n",
    "print(\"PY:\", sys.executable)\n",
    "print(\"VER:\", sys.version)\n",
    "print(\"SSL:\", ssl.OPENSSL_VERSION)\n",
    "print(\"requests:\", requests.__version__, \"urllib3:\", urllib3.__version__)\n",
    "print(\"CA file:\", cafile)"
   ]
  },
  {
   "cell_type": "code",
   "execution_count": null,
   "id": "234ceeec",
   "metadata": {},
   "outputs": [
    {
     "name": "stdout",
     "output_type": "stream",
     "text": [
      "create tpex_peratio\n"
     ]
    }
   ],
   "source": [
    "# create tables, trade_cal\n",
    "for i in ['tpex_peratio', 'turnover']:\n",
    "    create_table(i) "
   ]
  },
  {
   "cell_type": "code",
   "execution_count": null,
   "id": "481726d8",
   "metadata": {},
   "outputs": [],
   "source": [
    "def get_tpex_maincode():\n",
    "    conn = psycopg2.connect(**db_params)\n",
    "    cursor = conn.cursor()\n",
    "\n",
    "    # tpex maincode\n",
    "    url = \"https://www.tpex.org.tw/www/zh-tw/afterTrading/dailyQuotes?date=2025%2F09%2F04&response=json\"\n",
    "    res = requests.get(url)\n",
    "    data = res.json()\n",
    "    data_copy = data.copy()\n",
    "    data_copy = data_copy['tables'][0]['data']\n",
    "\n",
    "    data_filtered = []\n",
    "    for i in range(len(data_copy)):\n",
    "        if \"購\" in data_copy[i][1]:\n",
    "            continue\n",
    "        if \"售0\" in data_copy[i][1]:\n",
    "            continue\n",
    "        if \"U\" in data_copy[i][0]:\n",
    "            continue\n",
    "        if data_copy[i][2] == \"---\":\n",
    "            print(data_copy[i])\n",
    "            continue\n",
    "        if data_copy[i][3] == \"---\":\n",
    "            continue\n",
    "        if data_copy[i][4] == \"---\":\n",
    "            continue\n",
    "        if data_copy[i][5] == \"---\":\n",
    "            continue\n",
    "        if data_copy[i][6] == \"---\":\n",
    "            continue\n",
    "        a = data_copy[i][0:3]\n",
    "        \n",
    "        b = data_copy[i][4:7]\n",
    "        c = data_copy[i][8:11]\n",
    "        d = data_copy[i][15]\n",
    "        data_filtered.append(a + b + c + [d])\n",
    "\n",
    "    for i in tqdm(data_filtered):\n",
    "        sql_str = f\"\"\"\n",
    "        INSERT INTO public.maincode (code, cname, exchange)\n",
    "        VALUES ('{i[0]}', '{i[1]}', 'tpex') on conflict (code) do nothing;\n",
    "        \"\"\"\n",
    "        cursor.execute(sql_str)\n",
    "        conn.commit()\n",
    "\n",
    "def get_tpex_maincode_v2():\n",
    "    '''\n",
    "    from pe_ratio also but from postgres\n",
    "    '''\n",
    "    # tpex stock list from postgres\n",
    "    sql_str = \"\"\n",
    "    conn = psycopg2.connect(**db_params)\n",
    "    cursor = conn.cursor()\n",
    "    cursor.execute(f\"\"\"\n",
    "    select distinct code, cname from public.tpex_peratio;\n",
    "                    \"\"\")\n",
    "    codes = cursor.fetchall()\n",
    "    codes = [i[0] for i in codes]\n",
    "    for code in tqdm(codes):\n",
    "        sql_str += f\"\"\"INSERT INTO public.maincode (code, cname, exchange)\n",
    "        VALUES ('{code[0]}', '{code[1]}', 'tpex') on conflict (code) do nothing;\"\"\"\n",
    "    cursor.execute(sql_str)\n",
    "    conn.commit()\n",
    "    return None\n",
    "# get_tpex_maincode()\n",
    "# get_tpex_maincode_v2()"
   ]
  },
  {
   "cell_type": "code",
   "execution_count": null,
   "id": "308c00e9",
   "metadata": {},
   "outputs": [
    {
     "name": "stdout",
     "output_type": "stream",
     "text": [
      "No new data\n"
     ]
    }
   ],
   "source": [
    "def get_tpex_peratio():\n",
    "    # tpex pe_ratio\n",
    "\n",
    "    '''\n",
    "    uri = \"https://www.tpex.org.tw/www/zh-tw/afterTrading/PERatio\"\n",
    "    uri = \"https://www.tpex.org.tw/www/zh-tw/afterTrading/PERatio?date=2025%2F09%2F03&response=json\"\n",
    "    date=2025%2F09%2F04&id=&response=json\n",
    "    '''\n",
    "\n",
    "    conn = psycopg2.connect(**db_params)\n",
    "    cursor = conn.cursor()\n",
    "    trade_cal = get_init_period_trade_cal('tpex_peratio', t_='postgres')\n",
    "\n",
    "    if len(trade_cal) > 0:\n",
    "        for dat in tqdm(trade_cal):\n",
    "            sleeper(50)\n",
    "            year,month,day = dat.strftime('%Y-%m-%d').split('-')\n",
    "            uri = f\"https://www.tpex.org.tw/www/zh-tw/afterTrading/PERatio?date={year}%2F{month}%2F{day}&response=json\"\n",
    "            \n",
    "            res = requests.get(uri)\n",
    "            data = res.json()['tables'][0]['data']\n",
    "            sql_str = \"\"\n",
    "            da = f\"{year}{month}{day}\"\n",
    "            for i in data:\n",
    "                i[5] = i[5].replace('N/A', \"0\")\n",
    "                i[3] = i[3].replace(',', '')\n",
    "                i[4] = i[4].replace(',', '')\n",
    "                i[5] = i[5].replace(',', '')\n",
    "                sql_str += f\"\"\"INSERT INTO public.tpex_peratio (da, code, cname, cl, eps, pe_ratio)\n",
    "                VALUES ('{da}', '{i[1]}', '{i[2]}', '{i[3]}', '{i[4]}', '{i[5]}') on conflict (da, code) do nothing;\"\"\"\n",
    "            cursor.execute(sql_str)\n",
    "            conn.commit()\n",
    "    else:\n",
    "        print(\"Error: get_tpex_peratio No new data\")\n",
    "get_tpex_peratio()"
   ]
  },
  {
   "cell_type": "code",
   "execution_count": null,
   "id": "348beee4",
   "metadata": {},
   "outputs": [],
   "source": [
    "def init_tpex_price():\n",
    "    '''\n",
    "    url = \"https://www.tpex.org.tw/www/zh-tw/afterTrading/dailyQuotes?date=2025%2F09%2F04&response=json\"\n",
    "    https://www.tpex.org.tw/zh-tw/mainboard/trading/info/pricing.html\n",
    "    https://www.tpex.org.tw/www/zh-tw/afterTrading/dailyQuotes?date=2025%2F09%2F04&response=json\n",
    "    '''\n",
    "    conn = psycopg2.connect(**db_params)\n",
    "    cursor = conn.cursor()\n",
    "\n",
    "    trade_cal = get_trade_cal_from_postgres()\n",
    "    for da in tqdm(trade_cal, desc=\"tpex price\"):\n",
    "        year, month, day = da.strftime('%Y-%m-%d').split('-')\n",
    "        url = f\"https://www.tpex.org.tw/www/zh-tw/afterTrading/dailyQuotes?date={year}%2F{month}%2F{day}&response=json\"\n",
    "\n",
    "        res = requests.get(url)\n",
    "        data = res.json()['tables'][0]['data']\n",
    "        data_copy = data.copy()\n",
    "        da = res.json()['date']\n",
    "\n",
    "        data_filtered = []\n",
    "        for i in range(len(data_copy)):\n",
    "            if \"購\" in data_copy[i][1]:\n",
    "                continue\n",
    "            if \"售0\" in data_copy[i][1]:\n",
    "                continue\n",
    "            if \"U\" in data_copy[i][0]:\n",
    "                continue\n",
    "            if data_copy[i][2] == \"---\":\n",
    "                print(data_copy[i])\n",
    "                continue\n",
    "            if data_copy[i][3] == \"---\":\n",
    "                continue\n",
    "            if data_copy[i][4] == \"---\":\n",
    "                continue\n",
    "            if data_copy[i][5] == \"---\":\n",
    "                continue\n",
    "            if data_copy[i][6] == \"---\":\n",
    "                continue\n",
    "            a = data_copy[i][0]\n",
    "            b = data_copy[i][2]\n",
    "            e = data_copy[i][4:7]\n",
    "            c = data_copy[i][8:11]\n",
    "            d = data_copy[i][15]\n",
    "            data_filtered.append([a] + [b] + e + c + [d])\n",
    "\n",
    "        for i in data_filtered:\n",
    "            for j in [2, 3, 4, 5, 6, 7, -1, -2]:\n",
    "                if isinstance(i[j], str):\n",
    "                    i[j] = i[j].replace(',', '')\n",
    "            sql_str = f\"\"\"\n",
    "            INSERT INTO public.price (da, code, cl, op, hi, lo, stock_volume, cash_volume, number_of_trades)\n",
    "            VALUES ('{da}', '{i[0]}', '{i[1]}', '{i[2]}', '{i[3]}', '{i[4]}', '{i[5]}', '{i[6]}', '{i[7]}') on conflict (da, code) do nothing;\n",
    "            \"\"\"\n",
    "            cursor.execute(sql_str)\n",
    "            conn.commit()\n",
    "\n",
    "            # # shares issued\n",
    "            # sql_str = f\"\"\"\n",
    "            # INSERT INTO public.shares_issued (code, shares_issued)\n",
    "            # VALUES ('{i[0]}', {i[2]}) on conflict (code) do nothing;\n",
    "            # \"\"\"\n",
    "            # cursor.execute(sql_str)\n",
    "            # conn.commit()\n",
    "\n",
    "            # # shares_issued_change"
   ]
  },
  {
   "cell_type": "code",
   "execution_count": null,
   "id": "3f2e7ba0",
   "metadata": {},
   "outputs": [],
   "source": [
    "# tpex volume\n",
    "'''\n",
    "https://www.tpex.org.tw/zh-tw/mainboard/trading/realtime/amount.html\n",
    "'''"
   ]
  },
  {
   "cell_type": "code",
   "execution_count": null,
   "id": "a8ead8d9",
   "metadata": {},
   "outputs": [],
   "source": [
    "# tpex indices\n",
    "'''\n",
    "https://www.tpex.org.tw/zh-tw/mainboard/trading/info/indices-pricing.html\n",
    "https://www.tpex.org.tw/www/zh-tw/afterTrading/indexSummary?date=2025%2F09%2F04&response=json\n",
    "'''"
   ]
  },
  {
   "cell_type": "code",
   "execution_count": null,
   "id": "b09f2b11",
   "metadata": {},
   "outputs": [],
   "source": [
    "# tpex highlight\n",
    "'''\n",
    "https://www.tpex.org.tw/zh-tw/mainboard/trading/info/highlight.html\n",
    "'''"
   ]
  },
  {
   "cell_type": "code",
   "execution_count": null,
   "id": "3e5e1928",
   "metadata": {},
   "outputs": [],
   "source": [
    "# tpex short list\n",
    "'''\n",
    "https://www.tpex.org.tw/zh-tw/mainboard/trading/info/short.html\n",
    "'''"
   ]
  },
  {
   "cell_type": "code",
   "execution_count": null,
   "id": "0040a71c",
   "metadata": {},
   "outputs": [],
   "source": [
    "# tpex pe_ratio (like twse)\n",
    "'''\n",
    "https://www.tpex.org.tw/zh-tw/mainboard/trading/info/daily-pe.html\n",
    "'''"
   ]
  },
  {
   "cell_type": "code",
   "execution_count": null,
   "id": "03407e61",
   "metadata": {},
   "outputs": [],
   "source": [
    "# tpex market cap\n",
    "'''\n",
    "https://www.tpex.org.tw/zh-tw/mainboard/trading/historical/market-value.html\n",
    "'''\n",
    "\n",
    "# tpex turnover\n",
    "'''\n",
    "https://www.tpex.org.tw/zh-tw/mainboard/trading/historical/turnover-ratio/day.html\n",
    "'''\n",
    "\n",
    "# \n",
    "'''\n",
    "https://www.tpex.org.tw/zh-tw/mainboard/trading/historical/rank-volume/day.html\n",
    "https://www.tpex.org.tw/zh-tw/mainboard/trading/historical/rank-amount/day.html\n",
    "https://www.tpex.org.tw/zh-tw/mainboard/trading/historical/avg-volume/day.html\n",
    "https://www.tpex.org.tw/zh-tw/mainboard/trading/historical/avg-amount/day.html\n",
    "'''"
   ]
  }
 ],
 "metadata": {
  "kernelspec": {
   "display_name": "Python 3",
   "language": "python",
   "name": "python3"
  },
  "language_info": {
   "codemirror_mode": {
    "name": "ipython",
    "version": 3
   },
   "file_extension": ".py",
   "mimetype": "text/x-python",
   "name": "python",
   "nbconvert_exporter": "python",
   "pygments_lexer": "ipython3",
   "version": "3.9.6"
  }
 },
 "nbformat": 4,
 "nbformat_minor": 5
}
